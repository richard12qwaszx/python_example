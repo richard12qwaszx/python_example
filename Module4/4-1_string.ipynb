{
 "cells": [
  {
   "cell_type": "markdown",
   "metadata": {},
   "source": [
    "|string方法| 功能 |\n",
    "|:---:|:---:|\n",
    "| | 替換字串 |\n",
    "| | 去除兩側空格 |\n",
    "| | 字串小寫變大寫 |\n",
    "| | 字串大寫變小寫 |"
   ]
  },
  {
   "cell_type": "code",
   "execution_count": 2,
   "metadata": {},
   "outputs": [
    {
     "name": "stdout",
     "output_type": "stream",
     "text": [
      "Good Morning\n",
      "Good Night\n"
     ]
    }
   ],
   "source": [
    "# 字串變數初始化\n",
    "message = \"Good Morning\"\n",
    "print(message)\n",
    "message = \"Good Night\"\n",
    "print(message)"
   ]
  },
  {
   "cell_type": "code",
   "execution_count": 6,
   "metadata": {},
   "outputs": [
    {
     "name": "stdout",
     "output_type": "stream",
     "text": [
      "Good Night\n"
     ]
    }
   ],
   "source": [
    "# 替換字串\n",
    "'''\n",
    "\n",
    "將 string 中的 str1 替換成 str2\n",
    "'''\n",
    "message = \"Good Morning\"\n",
    "new_message = message.replace(\"Morning\" , \"Night\")\n",
    "print(new_message)"
   ]
  },
  {
   "cell_type": "code",
   "execution_count": 9,
   "metadata": {},
   "outputs": [
    {
     "name": "stdout",
     "output_type": "stream",
     "text": [
      "__ccc__\n",
      "Hello\n"
     ]
    }
   ],
   "source": [
    "# 去除兩側空格\n",
    "'''\n",
    "string.strip()\n",
    "去除字串 string 左、右兩邊的空格\n",
    "'''\n",
    "string01 = '__ccc__'\n",
    "new_string = string01.strip()\n",
    "#new_string = string01.rstrip()\n",
    "#new_string = string01.lstrip()\n",
    "print(new_string)\n",
    "message = \"Hello!!\"\n",
    "new_message = message.strip(\"!\")\n",
    "print(new_message)"
   ]
  },
  {
   "cell_type": "code",
   "execution_count": 12,
   "metadata": {},
   "outputs": [
    {
     "name": "stdout",
     "output_type": "stream",
     "text": [
      "car\n",
      "CAR\n"
     ]
    }
   ],
   "source": [
    "# 字串小寫變大寫\n",
    "'''\n",
    "string.lower()\n",
    "將字串 string 裡的字母全部改成小寫\n",
    "'''\n",
    "print(\"CAR\".lower())\n",
    "\n",
    "\n",
    "'''\n",
    "string.upper()\n",
    "將字串 string 裡的字母全部改成大寫\n",
    "'''\n",
    "print(\"car\".upper())"
   ]
  },
  {
   "cell_type": "code",
   "execution_count": null,
   "metadata": {},
   "outputs": [
    {
     "ename": "SyntaxError",
     "evalue": "cannot assign to function call (319438660.py, line 5)",
     "output_type": "error",
     "traceback": [
      "\u001b[1;36m  Cell \u001b[1;32mIn[18], line 5\u001b[1;36m\u001b[0m\n\u001b[1;33m    for int(i) in string_list:\u001b[0m\n\u001b[1;37m        ^\u001b[0m\n\u001b[1;31mSyntaxError\u001b[0m\u001b[1;31m:\u001b[0m cannot assign to function call\n"
     ]
    }
   ],
   "source": [
    "# 字串分割成 list\n",
    "greeting = \"hello world! hello John\"\n",
    "string_list=greeting.split()\n",
    "print(string_list[0])\n",
    "for i in string_list:\n",
    "    print(string_list)"
   ]
  }
 ],
 "metadata": {
  "kernelspec": {
   "display_name": "Python 3",
   "language": "python",
   "name": "python3"
  },
  "language_info": {
   "codemirror_mode": {
    "name": "ipython",
    "version": 3
   },
   "file_extension": ".py",
   "mimetype": "text/x-python",
   "name": "python",
   "nbconvert_exporter": "python",
   "pygments_lexer": "ipython3",
   "version": "3.13.0"
  }
 },
 "nbformat": 4,
 "nbformat_minor": 2
}
